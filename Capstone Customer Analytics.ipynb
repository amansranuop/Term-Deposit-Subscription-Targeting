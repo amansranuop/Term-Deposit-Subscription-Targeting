{
 "cells": [
  {
   "cell_type": "markdown",
   "id": "46bb8c12-3f30-46f2-9825-ddd46a88be66",
   "metadata": {},
   "source": [
    "# Banking Customer Data: Term Deposit Subscription Targeting "
   ]
  },
  {
   "cell_type": "markdown",
   "id": "ffc60421-c7fa-4760-9c00-5e33408435f1",
   "metadata": {},
   "source": [
    "### Problem Definition:\n",
    "\n",
    "This bank currently has a low number of customers that are subscribed to term deposits. Term deposits are beneficial for the bank because they provide a stable source of predictable cash flow, funding, as well as profit opportunities for the bank by allowing them to lend to other banks at a higher interest rate. Term deposit also reduce the risk of sudden withdrawals, which also supports its customer retention through attractive rates, and help manages interest rate fluctuations. Increasing the number of term deposits will enable the bank to enhance liquidity management and improve overall profitability. \n",
    "\n",
    "### Objective:\n",
    "\n",
    "The objective of this project is to increase the number of clients subscribing to long term deposits. This will be done by identifying the characteristics of clients who are most likely to subscribe. Characteristics such as job, education, balance, marital status, age, etc. This benefits the bank because it targets its marketing efforts more effectively such as offering personalized incentives (higher interest rates) to clients to maximize their subscription rates.\n",
    "\n",
    "\n",
    "### Business Understanding:\n",
    "\n",
    "Bank resources such as marketing can optimize their efforts by focusing on clients that are most likely to subscribe.It improves the converstion rates for term deposits. By having more term deposit subscriptions, it increases the bank's cash flow stability. \n"
   ]
  },
  {
   "cell_type": "code",
   "execution_count": 1,
   "id": "55a81529-9832-4325-9068-f18e2ed59ca0",
   "metadata": {},
   "outputs": [],
   "source": [
    "import pandas as pd\n",
    "import seaborn as sns\n",
    "import matplotlib.pyplot as plt"
   ]
  },
  {
   "cell_type": "code",
   "execution_count": 2,
   "id": "75e1bfd4-95ff-4697-a557-6a30a453d19b",
   "metadata": {},
   "outputs": [],
   "source": [
    "#upload the dataset\n",
    "\n",
    "df = pd.read_csv(\"BankCustomerData.csv\")"
   ]
  },
  {
   "cell_type": "code",
   "execution_count": 3,
   "id": "8a2f0971-925a-4f50-8d1a-15e64223ecff",
   "metadata": {},
   "outputs": [
    {
     "data": {
      "text/html": [
       "<div>\n",
       "<style scoped>\n",
       "    .dataframe tbody tr th:only-of-type {\n",
       "        vertical-align: middle;\n",
       "    }\n",
       "\n",
       "    .dataframe tbody tr th {\n",
       "        vertical-align: top;\n",
       "    }\n",
       "\n",
       "    .dataframe thead th {\n",
       "        text-align: right;\n",
       "    }\n",
       "</style>\n",
       "<table border=\"1\" class=\"dataframe\">\n",
       "  <thead>\n",
       "    <tr style=\"text-align: right;\">\n",
       "      <th></th>\n",
       "      <th>age</th>\n",
       "      <th>job</th>\n",
       "      <th>marital</th>\n",
       "      <th>education</th>\n",
       "      <th>default</th>\n",
       "      <th>balance</th>\n",
       "      <th>housing</th>\n",
       "      <th>loan</th>\n",
       "      <th>contact</th>\n",
       "      <th>day</th>\n",
       "      <th>month</th>\n",
       "      <th>duration</th>\n",
       "      <th>campaign</th>\n",
       "      <th>pdays</th>\n",
       "      <th>previous</th>\n",
       "      <th>poutcome</th>\n",
       "      <th>term_deposit</th>\n",
       "    </tr>\n",
       "  </thead>\n",
       "  <tbody>\n",
       "    <tr>\n",
       "      <th>0</th>\n",
       "      <td>58</td>\n",
       "      <td>management</td>\n",
       "      <td>married</td>\n",
       "      <td>tertiary</td>\n",
       "      <td>no</td>\n",
       "      <td>2143</td>\n",
       "      <td>yes</td>\n",
       "      <td>no</td>\n",
       "      <td>unknown</td>\n",
       "      <td>5</td>\n",
       "      <td>may</td>\n",
       "      <td>261</td>\n",
       "      <td>1</td>\n",
       "      <td>-1</td>\n",
       "      <td>0</td>\n",
       "      <td>unknown</td>\n",
       "      <td>no</td>\n",
       "    </tr>\n",
       "    <tr>\n",
       "      <th>1</th>\n",
       "      <td>44</td>\n",
       "      <td>technician</td>\n",
       "      <td>single</td>\n",
       "      <td>secondary</td>\n",
       "      <td>no</td>\n",
       "      <td>29</td>\n",
       "      <td>yes</td>\n",
       "      <td>no</td>\n",
       "      <td>unknown</td>\n",
       "      <td>5</td>\n",
       "      <td>may</td>\n",
       "      <td>151</td>\n",
       "      <td>1</td>\n",
       "      <td>-1</td>\n",
       "      <td>0</td>\n",
       "      <td>unknown</td>\n",
       "      <td>no</td>\n",
       "    </tr>\n",
       "    <tr>\n",
       "      <th>2</th>\n",
       "      <td>33</td>\n",
       "      <td>entrepreneur</td>\n",
       "      <td>married</td>\n",
       "      <td>secondary</td>\n",
       "      <td>no</td>\n",
       "      <td>2</td>\n",
       "      <td>yes</td>\n",
       "      <td>yes</td>\n",
       "      <td>unknown</td>\n",
       "      <td>5</td>\n",
       "      <td>may</td>\n",
       "      <td>76</td>\n",
       "      <td>1</td>\n",
       "      <td>-1</td>\n",
       "      <td>0</td>\n",
       "      <td>unknown</td>\n",
       "      <td>no</td>\n",
       "    </tr>\n",
       "    <tr>\n",
       "      <th>3</th>\n",
       "      <td>47</td>\n",
       "      <td>blue-collar</td>\n",
       "      <td>married</td>\n",
       "      <td>unknown</td>\n",
       "      <td>no</td>\n",
       "      <td>1506</td>\n",
       "      <td>yes</td>\n",
       "      <td>no</td>\n",
       "      <td>unknown</td>\n",
       "      <td>5</td>\n",
       "      <td>may</td>\n",
       "      <td>92</td>\n",
       "      <td>1</td>\n",
       "      <td>-1</td>\n",
       "      <td>0</td>\n",
       "      <td>unknown</td>\n",
       "      <td>no</td>\n",
       "    </tr>\n",
       "    <tr>\n",
       "      <th>4</th>\n",
       "      <td>33</td>\n",
       "      <td>unknown</td>\n",
       "      <td>single</td>\n",
       "      <td>unknown</td>\n",
       "      <td>no</td>\n",
       "      <td>1</td>\n",
       "      <td>no</td>\n",
       "      <td>no</td>\n",
       "      <td>unknown</td>\n",
       "      <td>5</td>\n",
       "      <td>may</td>\n",
       "      <td>198</td>\n",
       "      <td>1</td>\n",
       "      <td>-1</td>\n",
       "      <td>0</td>\n",
       "      <td>unknown</td>\n",
       "      <td>no</td>\n",
       "    </tr>\n",
       "  </tbody>\n",
       "</table>\n",
       "</div>"
      ],
      "text/plain": [
       "   age           job  marital  education default  balance housing loan  \\\n",
       "0   58    management  married   tertiary      no     2143     yes   no   \n",
       "1   44    technician   single  secondary      no       29     yes   no   \n",
       "2   33  entrepreneur  married  secondary      no        2     yes  yes   \n",
       "3   47   blue-collar  married    unknown      no     1506     yes   no   \n",
       "4   33       unknown   single    unknown      no        1      no   no   \n",
       "\n",
       "   contact  day month  duration  campaign  pdays  previous poutcome  \\\n",
       "0  unknown    5   may       261         1     -1         0  unknown   \n",
       "1  unknown    5   may       151         1     -1         0  unknown   \n",
       "2  unknown    5   may        76         1     -1         0  unknown   \n",
       "3  unknown    5   may        92         1     -1         0  unknown   \n",
       "4  unknown    5   may       198         1     -1         0  unknown   \n",
       "\n",
       "  term_deposit  \n",
       "0           no  \n",
       "1           no  \n",
       "2           no  \n",
       "3           no  \n",
       "4           no  "
      ]
     },
     "execution_count": 3,
     "metadata": {},
     "output_type": "execute_result"
    }
   ],
   "source": [
    "#Review the first 5 rows\n",
    "\n",
    "df.head(5)"
   ]
  },
  {
   "cell_type": "markdown",
   "id": "ec3b88c3-de34-4512-ad89-04b778de0c8e",
   "metadata": {},
   "source": [
    "------------------------------------------------------------"
   ]
  },
  {
   "cell_type": "markdown",
   "id": "7788e8a8-6d60-4069-873f-1cfe09c6346a",
   "metadata": {},
   "source": [
    "# Data Understanding"
   ]
  },
  {
   "cell_type": "code",
   "execution_count": 4,
   "id": "e2b25067-5f80-44e1-a7aa-55be6823bf67",
   "metadata": {},
   "outputs": [
    {
     "data": {
      "text/plain": [
       "(42639, 17)"
      ]
     },
     "execution_count": 4,
     "metadata": {},
     "output_type": "execute_result"
    }
   ],
   "source": [
    "# Shape of the data\n",
    "\n",
    "df.shape"
   ]
  },
  {
   "cell_type": "markdown",
   "id": "62fc614f-258f-4408-9232-fcb983bb6ef1",
   "metadata": {},
   "source": [
    "The dataset has 17 columns and 42,639 rows."
   ]
  },
  {
   "cell_type": "markdown",
   "id": "5f2e6f4f-94ea-40e0-9646-8ff25647e2da",
   "metadata": {},
   "source": [
    "#### Subscription rates"
   ]
  },
  {
   "cell_type": "code",
   "execution_count": 5,
   "id": "87819a06-e04f-4277-8d99-3e1b3c5bc85f",
   "metadata": {},
   "outputs": [
    {
     "name": "stdout",
     "output_type": "stream",
     "text": [
      "no     90.710383\n",
      "yes     9.289617\n",
      "Name: term_deposit, dtype: float64\n"
     ]
    }
   ],
   "source": [
    "subscription_counts = df['term_deposit'].value_counts(normalize=True) * 100\n",
    "print(subscription_counts)"
   ]
  },
  {
   "cell_type": "markdown",
   "id": "e0e77f20-9dbb-49c4-aa63-d31af3c7278d",
   "metadata": {},
   "source": [
    "Understanding this data shows that only 9.29% of the customers are subscribed to term deposit and 90.7% are not. "
   ]
  },
  {
   "cell_type": "code",
   "execution_count": 6,
   "id": "4b38c15c-74ad-4465-b447-371400bd4857",
   "metadata": {},
   "outputs": [
    {
     "data": {
      "text/html": [
       "<div>\n",
       "<style scoped>\n",
       "    .dataframe tbody tr th:only-of-type {\n",
       "        vertical-align: middle;\n",
       "    }\n",
       "\n",
       "    .dataframe tbody tr th {\n",
       "        vertical-align: top;\n",
       "    }\n",
       "\n",
       "    .dataframe thead th {\n",
       "        text-align: right;\n",
       "    }\n",
       "</style>\n",
       "<table border=\"1\" class=\"dataframe\">\n",
       "  <thead>\n",
       "    <tr style=\"text-align: right;\">\n",
       "      <th></th>\n",
       "      <th>age</th>\n",
       "      <th>balance</th>\n",
       "      <th>day</th>\n",
       "      <th>duration</th>\n",
       "      <th>campaign</th>\n",
       "      <th>pdays</th>\n",
       "      <th>previous</th>\n",
       "    </tr>\n",
       "  </thead>\n",
       "  <tbody>\n",
       "    <tr>\n",
       "      <th>count</th>\n",
       "      <td>42639.000000</td>\n",
       "      <td>42639.000000</td>\n",
       "      <td>42639.000000</td>\n",
       "      <td>42639.000000</td>\n",
       "      <td>42639.000000</td>\n",
       "      <td>42639.000000</td>\n",
       "      <td>42639.000000</td>\n",
       "    </tr>\n",
       "    <tr>\n",
       "      <th>mean</th>\n",
       "      <td>40.788808</td>\n",
       "      <td>1331.863951</td>\n",
       "      <td>15.854781</td>\n",
       "      <td>255.957504</td>\n",
       "      <td>2.816412</td>\n",
       "      <td>34.169141</td>\n",
       "      <td>0.465442</td>\n",
       "    </tr>\n",
       "    <tr>\n",
       "      <th>std</th>\n",
       "      <td>10.200236</td>\n",
       "      <td>3011.537676</td>\n",
       "      <td>8.293901</td>\n",
       "      <td>258.361368</td>\n",
       "      <td>3.163564</td>\n",
       "      <td>92.041713</td>\n",
       "      <td>2.166705</td>\n",
       "    </tr>\n",
       "    <tr>\n",
       "      <th>min</th>\n",
       "      <td>18.000000</td>\n",
       "      <td>-8019.000000</td>\n",
       "      <td>1.000000</td>\n",
       "      <td>0.000000</td>\n",
       "      <td>1.000000</td>\n",
       "      <td>-1.000000</td>\n",
       "      <td>0.000000</td>\n",
       "    </tr>\n",
       "    <tr>\n",
       "      <th>25%</th>\n",
       "      <td>33.000000</td>\n",
       "      <td>62.000000</td>\n",
       "      <td>8.000000</td>\n",
       "      <td>101.000000</td>\n",
       "      <td>1.000000</td>\n",
       "      <td>-1.000000</td>\n",
       "      <td>0.000000</td>\n",
       "    </tr>\n",
       "    <tr>\n",
       "      <th>50%</th>\n",
       "      <td>39.000000</td>\n",
       "      <td>429.000000</td>\n",
       "      <td>16.000000</td>\n",
       "      <td>177.000000</td>\n",
       "      <td>2.000000</td>\n",
       "      <td>-1.000000</td>\n",
       "      <td>0.000000</td>\n",
       "    </tr>\n",
       "    <tr>\n",
       "      <th>75%</th>\n",
       "      <td>48.000000</td>\n",
       "      <td>1381.500000</td>\n",
       "      <td>21.000000</td>\n",
       "      <td>315.000000</td>\n",
       "      <td>3.000000</td>\n",
       "      <td>-1.000000</td>\n",
       "      <td>0.000000</td>\n",
       "    </tr>\n",
       "    <tr>\n",
       "      <th>max</th>\n",
       "      <td>95.000000</td>\n",
       "      <td>102127.000000</td>\n",
       "      <td>31.000000</td>\n",
       "      <td>4918.000000</td>\n",
       "      <td>63.000000</td>\n",
       "      <td>536.000000</td>\n",
       "      <td>275.000000</td>\n",
       "    </tr>\n",
       "  </tbody>\n",
       "</table>\n",
       "</div>"
      ],
      "text/plain": [
       "                age        balance           day      duration      campaign  \\\n",
       "count  42639.000000   42639.000000  42639.000000  42639.000000  42639.000000   \n",
       "mean      40.788808    1331.863951     15.854781    255.957504      2.816412   \n",
       "std       10.200236    3011.537676      8.293901    258.361368      3.163564   \n",
       "min       18.000000   -8019.000000      1.000000      0.000000      1.000000   \n",
       "25%       33.000000      62.000000      8.000000    101.000000      1.000000   \n",
       "50%       39.000000     429.000000     16.000000    177.000000      2.000000   \n",
       "75%       48.000000    1381.500000     21.000000    315.000000      3.000000   \n",
       "max       95.000000  102127.000000     31.000000   4918.000000     63.000000   \n",
       "\n",
       "              pdays      previous  \n",
       "count  42639.000000  42639.000000  \n",
       "mean      34.169141      0.465442  \n",
       "std       92.041713      2.166705  \n",
       "min       -1.000000      0.000000  \n",
       "25%       -1.000000      0.000000  \n",
       "50%       -1.000000      0.000000  \n",
       "75%       -1.000000      0.000000  \n",
       "max      536.000000    275.000000  "
      ]
     },
     "execution_count": 6,
     "metadata": {},
     "output_type": "execute_result"
    }
   ],
   "source": [
    "#statistical analysis of the dataset\n",
    "\n",
    "df.describe()"
   ]
  },
  {
   "cell_type": "markdown",
   "id": "880e0422-6673-415f-918c-25257347f6b7",
   "metadata": {},
   "source": [
    "#### Interpretation:\n",
    "\n",
    "**Age:** This shows that the bank currently have customers of different age groups. Minimum of 18 year olds, Maximum of 95, and a mean of 40 year olds. Older customers might be inclined more towards invesments such as term deposits while the younger age group might need more incentives such as education.\n",
    "\n",
    "**Balance:** With a maximum of $100,000+ balance and a minimum of a negative balance, it can be understood that the bank has a large variation in customers. The ones with a higher balance will more likely be interested in term deposits in compared to the ones with low balance, might be less interested or need more incentive.\n",
    "\n",
    "**Day**: The average day value shows 15.85. It is the day of the month that the customer was last contacted. It could help the call center/marketing team to analyze if there is perhaps a certain time of the month when a client is more open to bank offers.\n",
    "\n",
    "**Duration:** The mean shows an average of 255 seconds per phone call. Maximum of 4918 seconds. Longer calls shows more interest in subscribing to long term deposits.\n",
    "\n",
    "**Campaign**: The mean shows that customers were contacted approximately 2.8 times in their current campaign. It shows that repeated attemps are common. However, it is helpful to understand the optimal number of attemps without having a negative impact in customers experience that could lead to them declining term deposit.\n",
    "\n",
    "**pdays:** The negative indicates that the customers were not contacted and the mean shows on average a customer wasn't contacted in 34 days. This shows that their is room to call customer and engage them in the incentive.\n",
    "\n",
    "**previous:** The average is low. Showing a customer has not been contacted multiple times, again shows that their are customers who can be called.\n",
    "\n",
    "\n"
   ]
  },
  {
   "cell_type": "code",
   "execution_count": 7,
   "id": "1560bafb-0ece-4906-91b4-34177e7cf5bc",
   "metadata": {},
   "outputs": [
    {
     "data": {
      "text/plain": [
       "age             0\n",
       "job             0\n",
       "marital         0\n",
       "education       0\n",
       "default         0\n",
       "balance         0\n",
       "housing         0\n",
       "loan            0\n",
       "contact         0\n",
       "day             0\n",
       "month           0\n",
       "duration        0\n",
       "campaign        0\n",
       "pdays           0\n",
       "previous        0\n",
       "poutcome        0\n",
       "term_deposit    0\n",
       "dtype: int64"
      ]
     },
     "execution_count": 7,
     "metadata": {},
     "output_type": "execute_result"
    }
   ],
   "source": [
    "# Check if there any missing values in the dataset\n",
    "\n",
    "df.isnull().sum()"
   ]
  },
  {
   "cell_type": "markdown",
   "id": "79e976a9-51c0-4cfe-b575-114a00357562",
   "metadata": {},
   "source": [
    "There are no null or missing values in the dataset."
   ]
  },
  {
   "cell_type": "markdown",
   "id": "7dfb1c4a-4813-48ca-a396-6ada03f5d738",
   "metadata": {},
   "source": [
    "----------------------------------------------------------------------------------------------------------------------------------------------------"
   ]
  },
  {
   "cell_type": "markdown",
   "id": "4b374436-ed37-4847-b6c0-7e226d8f31d9",
   "metadata": {},
   "source": [
    "# Exploratory Data Analysis"
   ]
  },
  {
   "cell_type": "code",
   "execution_count": 8,
   "id": "bda51b67-a6a5-4427-a746-a360ff7bf3e7",
   "metadata": {},
   "outputs": [
    {
     "data": {
      "image/png": "[encoded data removed]",
      "text/plain": [
       "<Figure size 800x600 with 2 Axes>"
      ]
     },
     "metadata": {},
     "output_type": "display_data"
    }
   ],
   "source": [
    "# Calculate the correlation matrix\n",
    "correlation_matrix = df.corr()\n",
    "\n",
    "# Create the heatmap\n",
    "plt.figure(figsize = (8,6))\n",
    "sns.heatmap(correlation_matrix, cmap = 'coolwarm')\n",
    "plt.show()"
   ]
  },
  {
   "cell_type": "markdown",
   "id": "1a1f9fde-7d88-4010-8251-d27e509c2bcd",
   "metadata": {},
   "source": [
    "### Interpretation:\n",
    "\n",
    "**Weak Correlation:** The heatmap shows a weak correlation between age and balance. It means that older customers with higher balance are more likely to subscribe to a term deposit.\n",
    "\n",
    "**Positive Correlation:** There’s a moderately positive correlation between duration and other variables, such as previous. It could imply that longer calls are associated with higher customer engagement, potentially increasing the likelihood of a term deposit subscription. It is helpful to understand customer engagement.\n",
    "\n",
    "**Weak or No Correlation:** Variables such as campaign have no correlation with age or balance. It shows that these variables work independentaly.\n",
    "\n",
    "### Insights for business understanding:\n",
    "\n",
    "Targetting older customers who tend to have a higher balance could be beneficial for term deposit marketing. The marketing team can tailor more incentives and benefits for the older customer to engage them more into subscription. Longer calls with customers shows higher interest in term deposit. Therefore, focusing on these customers in future calls could improve subscription rates. "
   ]
  },
  {
   "cell_type": "markdown",
   "id": "69e16754-0e74-4c87-b33f-db772281512d",
   "metadata": {},
   "source": [
    "**Analyzing subscription rates by marketing efforts**"
   ]
  },
  {
   "cell_type": "code",
   "execution_count": 9,
   "id": "e28ba633-e961-461c-9728-229b2e3e0955",
   "metadata": {},
   "outputs": [
    {
     "name": "stdout",
     "output_type": "stream",
     "text": [
      "term_deposit\n",
      "no     2.875226\n",
      "yes    2.242111\n",
      "Name: campaign, dtype: float64\n",
      "term_deposit\n",
      "no     221.441853\n",
      "yes    592.992679\n",
      "Name: duration, dtype: float64\n"
     ]
    }
   ],
   "source": [
    "subscription_by_campaign = df.groupby('term_deposit')['campaign'].mean()\n",
    "subscription_by_duration = df.groupby('term_deposit')['duration'].mean()\n",
    "\n",
    "print(subscription_by_campaign)\n",
    "print(subscription_by_duration)"
   ]
  },
  {
   "cell_type": "markdown",
   "id": "441c71ba-504b-4c70-afed-ec293af4a58e",
   "metadata": {},
   "source": [
    "**Interpretation** \n",
    "\n",
    "*Non subscribors:* Customers who did not subscribe to a term deposit received, on average, 2.88 contact attempts during the campaign. The average call duration is 221.41 seconds.\n",
    "\n",
    "*Subscribors:* Customers who subscribed were contacted slighly less, subscribed more with an average of 2.24 attemps. The call duration during phone call is an average of 593 seconds which is much higher than individuals who did not subscribe.\n",
    "\n",
    "**Insights**\n",
    "\n",
    "This suggests that repeat calling marketing style doesn't prove to be more effective when it comes to subscriptions. Marketing might want to look into different techniques and more incestives. The call duration shows the interest of the customer. If a phone call runs longer, the customer is more interested in subscribibg to term deposit."
   ]
  },
  {
   "cell_type": "markdown",
   "id": "55c5b91c-4dc5-48f8-a022-5ea0dbfdf840",
   "metadata": {},
   "source": [
    "**What is the subscription rate using factors such as age and balance?**"
   ]
  },
  {
   "cell_type": "code",
   "execution_count": 10,
   "id": "1b6a2435-39a1-494a-90be-55e40001e15f",
   "metadata": {},
   "outputs": [
    {
     "name": "stdout",
     "output_type": "stream",
     "text": [
      "term_deposit\n",
      "no     40.759010\n",
      "yes    41.079778\n",
      "Name: age, dtype: float64\n",
      "term_deposit\n",
      "no     1286.736646\n",
      "yes    1772.518808\n",
      "Name: balance, dtype: float64\n"
     ]
    }
   ],
   "source": [
    "subscription_by_age = df.groupby('term_deposit')['age'].mean()\n",
    "subscription_by_balance = df.groupby('term_deposit')['balance'].mean()\n",
    "\n",
    "print(subscription_by_age)\n",
    "print(subscription_by_balance)\n"
   ]
  },
  {
   "cell_type": "markdown",
   "id": "a56a229b-df2c-4836-9b14-20fa42d5d73c",
   "metadata": {},
   "source": [
    "**Interpretation**\n",
    "\n",
    "*Non Subcribors:* People at the average age of 40.7 said no to term deposit.\n",
    "Additionally, people at the average balance of 1286.73 did not enroll in term deposit.\n",
    "\n",
    "*Subscribors:* People at the average age of 41 and higher said yes to term deposit. \n",
    "People with balance of 1772.51 and higher enrolled in term deposit.\n",
    "\n",
    "**Insights**\n",
    "\n",
    "As seen above, age alone doesn't play much of a factor in understanding a customers incenstive to term deposit. However, there was a significant difference between bank balance when it comes to term deposit. This is because higher bank balance have more financial security and are able to invest for their future."
   ]
  },
  {
   "cell_type": "markdown",
   "id": "ee5af2e4-0c75-4315-a451-92c841fd8786",
   "metadata": {},
   "source": [
    "--------------------------------------------------------------------------------------------------------------------------------------------"
   ]
  },
  {
   "cell_type": "markdown",
   "id": "a017bf38-6691-4789-b18a-9ecf0a545fde",
   "metadata": {},
   "source": [
    "# Data Preperation"
   ]
  },
  {
   "cell_type": "code",
   "execution_count": 11,
   "id": "daf8092f-bafe-43ca-931a-24f6ae498360",
   "metadata": {},
   "outputs": [],
   "source": [
    "from sklearn.preprocessing import StandardScaler, LabelEncoder\n",
    "from sklearn.model_selection import train_test_split"
   ]
  },
  {
   "cell_type": "markdown",
   "id": "c104e098-dbdf-4f95-aa88-311d1363b1ba",
   "metadata": {},
   "source": [
    "**Data Prep**\n",
    "\n",
    "Below I will do the following things:\n",
    "\n",
    "- Map yes/no to 1 or 0 and show if it was done correctly without any missing values\n",
    "\n",
    "- Hot encode all categorial variables such as job, education, marital status, as well as contact.\n",
    "\n",
    "- Create 'total_contacts' by combining 'campaign' and 'previous'\n",
    "\n",
    "- Standardize all numerical features so that they hold same value when we evaluate model.\n",
    "\n",
    "- Apply One-Hot Encoding to any non-numeric columns\n"
   ]
  },
  {
   "cell_type": "code",
   "execution_count": 12,
   "id": "484fc0c5-456a-41ac-81e4-221529ac253c",
   "metadata": {},
   "outputs": [
    {
     "name": "stdout",
     "output_type": "stream",
     "text": [
      "Unique values in 'housing': ['yes' 'no']\n",
      "Unique values in 'loan': ['no' 'yes']\n",
      "Unique values in 'term_deposit': ['no' 'yes']\n"
     ]
    }
   ],
   "source": [
    "# Display unique values in each column\n",
    "print(\"Unique values in 'housing':\", df['housing'].unique())\n",
    "print(\"Unique values in 'loan':\", df['loan'].unique())\n",
    "print(\"Unique values in 'term_deposit':\", df['term_deposit'].unique())\n"
   ]
  },
  {
   "cell_type": "code",
   "execution_count": 13,
   "id": "f91c3770-487d-40e1-9ff2-5c0d544055d5",
   "metadata": {},
   "outputs": [
    {
     "name": "stdout",
     "output_type": "stream",
     "text": [
      "NaN values per column after mapping:\n",
      " age             0\n",
      "job             0\n",
      "marital         0\n",
      "education       0\n",
      "default         0\n",
      "balance         0\n",
      "housing         0\n",
      "loan            0\n",
      "contact         0\n",
      "day             0\n",
      "month           0\n",
      "duration        0\n",
      "campaign        0\n",
      "pdays           0\n",
      "previous        0\n",
      "poutcome        0\n",
      "term_deposit    0\n",
      "dtype: int64\n"
     ]
    }
   ],
   "source": [
    "# Directly map 'yes'/'no' to 1/0 without filling any values\n",
    "df['housing'] = df['housing'].map({'yes': 1, 'no': 0})\n",
    "df['loan'] = df['loan'].map({'yes': 1, 'no': 0})\n",
    "df['term_deposit'] = df['term_deposit'].map({'yes': 1, 'no': 0})\n",
    "\n",
    "# Verify that no NaN values were introduced\n",
    "print(\"NaN values per column after mapping:\\n\", df.isnull().sum())\n"
   ]
  },
  {
   "cell_type": "code",
   "execution_count": 14,
   "id": "a27d7202-1da1-4859-88f1-cabbb059e6e3",
   "metadata": {},
   "outputs": [
    {
     "name": "stdout",
     "output_type": "stream",
     "text": [
      "Data columns after One-Hot Encoding:\n",
      " Index(['age', 'default', 'balance', 'housing', 'loan', 'day', 'duration',\n",
      "       'campaign', 'pdays', 'previous', 'term_deposit', 'job_blue-collar',\n",
      "       'job_entrepreneur', 'job_housemaid', 'job_management', 'job_retired',\n",
      "       'job_self-employed', 'job_services', 'job_student', 'job_technician',\n",
      "       'job_unemployed', 'job_unknown', 'marital_married', 'marital_single',\n",
      "       'education_secondary', 'education_tertiary', 'education_unknown',\n",
      "       'contact_telephone', 'contact_unknown', 'month_aug', 'month_dec',\n",
      "       'month_feb', 'month_jan', 'month_jul', 'month_jun', 'month_mar',\n",
      "       'month_may', 'month_nov', 'month_oct', 'month_sep', 'poutcome_other',\n",
      "       'poutcome_success', 'poutcome_unknown'],\n",
      "      dtype='object')\n"
     ]
    }
   ],
   "source": [
    "# Identify the categorical columns\n",
    "categorical_columns = ['job', 'marital', 'education', 'contact', 'month', 'poutcome']\n",
    "\n",
    "# Apply One-Hot Encoding to the categorical columns\n",
    "df = pd.get_dummies(df, columns=categorical_columns, drop_first=True)\n",
    "\n",
    "# Verify the result\n",
    "print(\"Data columns after One-Hot Encoding:\\n\", df.columns)\n"
   ]
  },
  {
   "cell_type": "code",
   "execution_count": 15,
   "id": "de5957a2-4eef-4c72-92f5-c611926d94da",
   "metadata": {},
   "outputs": [],
   "source": [
    "# Create 'total_contacts' by combining 'campaign' and 'previous'\n",
    "df['total_contacts'] = df['campaign'] + df['previous']"
   ]
  },
  {
   "cell_type": "code",
   "execution_count": 18,
   "id": "4a398a01-d614-40e8-8f7b-b58c7533f7de",
   "metadata": {},
   "outputs": [],
   "source": [
    "# Define features and target\n",
    "X = df.drop(columns=['term_deposit'])\n",
    "y = df['term_deposit']\n"
   ]
  },
  {
   "cell_type": "code",
   "execution_count": 19,
   "id": "ee61a4ac-1c9e-44e3-a32e-786f1eb69c16",
   "metadata": {},
   "outputs": [],
   "source": [
    "# Split the data into training and test sets\n",
    "X_train, X_test, y_train, y_test = train_test_split(X, y, test_size=0.3, random_state=42)\n"
   ]
  },
  {
   "cell_type": "code",
   "execution_count": 20,
   "id": "e94dfa36-8a0d-480d-adee-c9237fe4cc95",
   "metadata": {},
   "outputs": [],
   "source": [
    "# Identify numerical columns\n",
    "numeric_cols = X.select_dtypes(include=['float64', 'int64']).columns\n",
    "\n",
    "# Initialize scaler\n",
    "scaler = StandardScaler()\n",
    "\n",
    "# Fit and transform on X_train, transform on X_test\n",
    "X_train[numeric_cols] = scaler.fit_transform(X_train[numeric_cols])\n",
    "X_test[numeric_cols] = scaler.transform(X_test[numeric_cols])\n"
   ]
  },
  {
   "cell_type": "code",
   "execution_count": 30,
   "id": "f2c51e07-085f-4ee9-bf22-700609cea206",
   "metadata": {},
   "outputs": [
    {
     "name": "stdout",
     "output_type": "stream",
     "text": [
      "Data types in X_train:\n",
      " age                    float64\n",
      "balance                float64\n",
      "housing                float64\n",
      "loan                   float64\n",
      "day                    float64\n",
      "duration               float64\n",
      "campaign               float64\n",
      "pdays                  float64\n",
      "previous               float64\n",
      "job_blue-collar          uint8\n",
      "job_entrepreneur         uint8\n",
      "job_housemaid            uint8\n",
      "job_management           uint8\n",
      "job_retired              uint8\n",
      "job_self-employed        uint8\n",
      "job_services             uint8\n",
      "job_student              uint8\n",
      "job_technician           uint8\n",
      "job_unemployed           uint8\n",
      "job_unknown              uint8\n",
      "marital_married          uint8\n",
      "marital_single           uint8\n",
      "education_secondary      uint8\n",
      "education_tertiary       uint8\n",
      "education_unknown        uint8\n",
      "contact_telephone        uint8\n",
      "contact_unknown          uint8\n",
      "month_aug                uint8\n",
      "month_dec                uint8\n",
      "month_feb                uint8\n",
      "month_jan                uint8\n",
      "month_jul                uint8\n",
      "month_jun                uint8\n",
      "month_mar                uint8\n",
      "month_may                uint8\n",
      "month_nov                uint8\n",
      "month_oct                uint8\n",
      "month_sep                uint8\n",
      "poutcome_other           uint8\n",
      "poutcome_success         uint8\n",
      "poutcome_unknown         uint8\n",
      "total_contacts         float64\n",
      "default_yes              uint8\n",
      "dtype: object\n",
      "Non-numeric columns in X_train: Index([], dtype='object')\n"
     ]
    }
   ],
   "source": [
    "# Check the data types of X_train columns\n",
    "print(\"Data types in X_train:\\n\", X_train.dtypes)\n",
    "\n",
    "# Identify non-numeric columns, if any\n",
    "non_numeric_cols = X_train.select_dtypes(include=['object']).columns\n",
    "print(\"Non-numeric columns in X_train:\", non_numeric_cols)\n"
   ]
  },
  {
   "cell_type": "code",
   "execution_count": 32,
   "id": "7c5a50fd-2008-4c04-a167-1bda8537468b",
   "metadata": {},
   "outputs": [],
   "source": [
    "# Apply One-Hot Encoding to any non-numeric columns\n",
    "if len(non_numeric_cols) > 0:\n",
    "    X_train = pd.get_dummies(X_train, columns=non_numeric_cols, drop_first=True)\n",
    "    X_test = pd.get_dummies(X_test, columns=non_numeric_cols, drop_first=True)\n",
    "\n",
    "    # Ensure X_train and X_test have the same columns\n",
    "    X_train, X_test = X_train.align(X_test, join='left', axis=1, fill_value=0)\n"
   ]
  },
  {
   "cell_type": "markdown",
   "id": "ae2023c0-afd5-490c-835f-3f442b1b0b3c",
   "metadata": {},
   "source": [
    "--------------------------------------------------------------------------------------------------------------------------------------------------------------"
   ]
  },
  {
   "cell_type": "markdown",
   "id": "dcec7519-954c-4e9a-9286-89d8d2d4b733",
   "metadata": {},
   "source": [
    "# Modeling and Evaluation"
   ]
  },
  {
   "cell_type": "code",
   "execution_count": 48,
   "id": "b1ff89b7-ce62-41d6-b012-ab102ebf4719",
   "metadata": {},
   "outputs": [],
   "source": [
    "from sklearn.ensemble import RandomForestClassifier\n",
    "from sklearn.metrics import accuracy_score, precision_score, recall_score, roc_auc_score, confusion_matrix, classification_report"
   ]
  },
  {
   "cell_type": "code",
   "execution_count": 49,
   "id": "025fea73-42e2-4d61-9716-4779fe1ae7ef",
   "metadata": {},
   "outputs": [
    {
     "data": {
      "text/plain": [
       "RandomForestClassifier(random_state=42)"
      ]
     },
     "execution_count": 49,
     "metadata": {},
     "output_type": "execute_result"
    }
   ],
   "source": [
    "# Step 1: Initialize and train the Random Forest model\n",
    "rf_model = RandomForestClassifier(n_estimators=100, random_state=42)\n",
    "rf_model.fit(X_train, y_train)"
   ]
  },
  {
   "cell_type": "code",
   "execution_count": 50,
   "id": "cf7cc361-880c-401f-bff1-56e707bc4ab9",
   "metadata": {},
   "outputs": [],
   "source": [
    "# Step 2: Predict probabilities on the test set\n",
    "y_pred_proba = rf_model.predict_proba(X_test)[:, 1]  # Probability for the positive class"
   ]
  },
  {
   "cell_type": "code",
   "execution_count": 63,
   "id": "3ae46523-3e83-42ac-abad-36b207ffbae3",
   "metadata": {},
   "outputs": [],
   "source": [
    "# Step 3: Apply the custom threshold of 0.3\n",
    "threshold = 0.3\n",
    "y_pred_custom = (y_pred_proba >= threshold).astype(int)"
   ]
  },
  {
   "cell_type": "markdown",
   "id": "6a402949-240c-45ce-af43-a6d431fb377c",
   "metadata": {},
   "source": [
    "*Why threshold of 0.3 instead of standard 0.5?*\n",
    "\n",
    "Lower threshold was set because it will allow the bank to reach a broader audience of potential subscribers to match the banks goal of high number of subscribers. While it may increase the number of false positives, it will ensure that more potential subscribers are being targeted which will help with marketing efforts of getting more subscribers."
   ]
  },
  {
   "cell_type": "code",
   "execution_count": 64,
   "id": "b0ff46f6-3590-45a1-aa0d-a2c5ec87b56c",
   "metadata": {},
   "outputs": [],
   "source": [
    "# Step 4: Evaluate the model with the custom threshold\n",
    "accuracy = accuracy_score(y_test, y_pred_custom)\n",
    "precision = precision_score(y_test, y_pred_custom)\n",
    "recall = recall_score(y_test, y_pred_custom)\n",
    "roc_auc = roc_auc_score(y_test, y_pred_proba)  # AUC does not depend on threshold"
   ]
  },
  {
   "cell_type": "code",
   "execution_count": 65,
   "id": "3caf745b-21eb-4795-964b-34949e8ba9be",
   "metadata": {
    "tags": []
   },
   "outputs": [
    {
     "name": "stdout",
     "output_type": "stream",
     "text": [
      "Model Evaluation with Custom Threshold (0.3):\n",
      "Accuracy: 0.9118198874296435\n",
      "Precision: 0.5217965653896962\n",
      "Recall: 0.661641541038526\n",
      "AUC-ROC: 0.93020099202687\n"
     ]
    }
   ],
   "source": [
    "# Print evaluation metrics\n",
    "print(\"Model Evaluation with Custom Threshold (0.3):\")\n",
    "print(\"Accuracy:\", accuracy)\n",
    "print(\"Precision:\", precision)\n",
    "print(\"Recall:\", recall)\n",
    "print(\"AUC-ROC:\", roc_auc)"
   ]
  },
  {
   "cell_type": "code",
   "execution_count": 66,
   "id": "6a53b1dc-372d-4b5e-8257-45ab0936ab6a",
   "metadata": {},
   "outputs": [
    {
     "name": "stdout",
     "output_type": "stream",
     "text": [
      "\n",
      "Confusion Matrix:\n",
      " [[10874   724]\n",
      " [  404   790]]\n",
      "\n",
      "Classification Report:\n",
      "               precision    recall  f1-score   support\n",
      "\n",
      "           0       0.96      0.94      0.95     11598\n",
      "           1       0.52      0.66      0.58      1194\n",
      "\n",
      "    accuracy                           0.91     12792\n",
      "   macro avg       0.74      0.80      0.77     12792\n",
      "weighted avg       0.92      0.91      0.92     12792\n",
      "\n"
     ]
    }
   ],
   "source": [
    "# Confusion Matrix and Classification Report\n",
    "print(\"\\nConfusion Matrix:\\n\", confusion_matrix(y_test, y_pred_custom))\n",
    "print(\"\\nClassification Report:\\n\", classification_report(y_test, y_pred_custom))"
   ]
  },
  {
   "cell_type": "markdown",
   "id": "08c5a6a5-213b-4e6f-90df-c80854c280e2",
   "metadata": {},
   "source": [
    "**Interpretation**\n",
    "\n",
    "Model Evaluation with Custom Threshold (0.3):\n",
    "Accuracy: 0.9118198874296435 : The model has the accuracy of 91%. \n",
    "Precision: 0.5217965653896962: When the model predicts a subscriber, it is accurate 52% of the time\n",
    "Recall: 0.661641541038526: When model finds 66% of actual subscribers, which means it catches most of the people likely to subscribe.\n",
    "AUC-ROC: 0.93020099202687: hows the model is very good at telling subscribers and non-subscribers apart.\n",
    "\n",
    "**Insights**\n",
    "\n",
    "Confusion Matrix:\n",
    " [[10874   724]\n",
    " [  404   790]]\n",
    "\n",
    "True Subscribers are 790: These are the customers who are likely to subscribe that the model successfully identified.\n",
    "Missed Subscribers are 404: These are the ones that the model missed. However, the model has a recall of 66% which means, it is reaching most of them\n",
    "False positive of 724: This happened because model is trying to reach a wider customer base to identify more subscribers"
   ]
  },
  {
   "cell_type": "code",
   "execution_count": 67,
   "id": "3f8f64fe-7053-448e-a2da-33a412cddb9d",
   "metadata": {},
   "outputs": [
    {
     "name": "stdout",
     "output_type": "stream",
     "text": [
      "Low       7382\n",
      "Medium    1387\n",
      "High        83\n",
      "Name: segment, dtype: int64\n"
     ]
    }
   ],
   "source": [
    "# Define subscription likelihood segments\n",
    "X_test['subscription_probability'] = y_pred_proba\n",
    "X_test['segment'] = pd.cut(y_pred_proba, bins=[0, 0.3, 0.7, 1], labels=['Low', 'Medium', 'High'])\n",
    "\n",
    "# Count customers in each segment\n",
    "segment_counts = X_test['segment'].value_counts()\n",
    "print(segment_counts)\n"
   ]
  },
  {
   "cell_type": "markdown",
   "id": "ec5e492e-b7b7-4258-b950-0bab09c468d1",
   "metadata": {},
   "source": [
    "This is the distribution of customers by subscription probability segments based on the model's predictions:\n",
    "\n",
    "- Low 7382: These are customers with a low likelihood of subscribing to a term deposit. Marketing efforts may be less effective for this group.\n",
    "\n",
    "- Medium 1,387 customers: These customers have a moderate likelihood of subscribing. Targeted marketing with personalized offers or follow-up communications might help convert some of these customers.\n",
    "\n",
    "- High 83 customers: This small group has a high likelihood of subscribing. Focusing marketing efforts on these customers, using better incentive and deals, these customers have a higher chance of subscribing to long term deposit."
   ]
  },
  {
   "cell_type": "code",
   "execution_count": 71,
   "id": "6ea7eae4-c504-4fb0-bf27-2f3cceaffa46",
   "metadata": {},
   "outputs": [
    {
     "data": {
      "image/png": "[encoded data removed]",
      "text/plain": [
       "<Figure size 640x480 with 1 Axes>"
      ]
     },
     "metadata": {},
     "output_type": "display_data"
    }
   ],
   "source": [
    "# Get feature importances\n",
    "feature_importances = pd.Series(rf_model.feature_importances_, index=X_train.columns).sort_values(ascending=False)\n",
    "\n",
    "# Plot top 10 features\n",
    "feature_importances[:10].plot(kind='bar', title='Top 10 Feature Importances')\n",
    "plt.show()"
   ]
  },
  {
   "cell_type": "markdown",
   "id": "75659747-2088-4df0-8240-15be097f7212",
   "metadata": {},
   "source": [
    "This figure shows the imporant features that can be used to target customers with higher probability. The customers with a high call duration are more interested in term deposit. Age and balance also plays a factor. "
   ]
  },
  {
   "cell_type": "markdown",
   "id": "9770da4f-cd35-409d-9b78-67de41ce8dbc",
   "metadata": {},
   "source": [
    "# Summary"
   ]
  },
  {
   "cell_type": "markdown",
   "id": "965c2a6a-8cbb-41b9-b8aa-2119e073ba4e",
   "metadata": {},
   "source": [
    "The analysis of \"Term Deposit Subscription Targeting\" and model provides a targeted approach for the bank to increase term deposit subscriptions by identifying customer base that is most likely to subscribe. The analysis explored the correlation between different variables. It showed correlation between age and balance. It means that older customers with higher balance are more likely to subscribe to a term deposit. To better understand customer engagement, the heatmap showed moderately positive correlation between duration and other variables, such as previous. It could imply that longer calls are associated with higher customer engagement, potentially increasing the likelihood of a term deposit subscription. Further analysis also determined, age alone doesn't play much of a factor in understanding a customers incenstive to term deposit. There is a significant difference between bank balance when it comes to term deposit. This is because higher bank balance have more financial security and are able to invest for their future.\n",
    "\n",
    "Upon building a random forest model with a custom threshold of 0.3, it received an accuracy of 91%. We also recieved a high recall of 66%. This captures a majority of potential subscribers, which aligns with banks's objective to expand more term deposit. In this analysis, we also learned the top factors that influence subscription liklehood. Factors such as customer engagement (longer phone duration) and financial security. For customer segmentation, Low 7382: These are customers with a low likelihood of subscribing to a term deposit. Medium 1,387 customers: These customers have a moderate likelihood of subscribing. High 83 customers: This small group has a high likelihood of subscribing."
   ]
  },
  {
   "cell_type": "markdown",
   "id": "6673c6a8-e892-42da-8938-f76fa9d79103",
   "metadata": {},
   "source": [
    "# Recommendation"
   ]
  },
  {
   "cell_type": "markdown",
   "id": "d9514f10-1113-488d-8bad-f6c117e10bc8",
   "metadata": {},
   "source": [
    "My recommendation for the bank would be to prioritize their customers with high probability. By focusing on this, the marketing resources are being used fully and correctly. Focusing marketing efforts on high segment customers by offering attractive deals/incentives. This could included sign up bonuses, high interest rates or even as small as offering sign up gifts. The segment is small but it is highly likely to convert, which makes it the most valuable target. For its customers with medium probability, use cost effective marketing strategies such as email campaigns and personalized offers to get their interest and enourage more subscriptions. Medium group is the largest group and this strategy can help increase subscriptions without the excessive cost.\n",
    "\n",
    "Strategies: It was shown that features like contact duration, frequency, and previous sucess significantly impact subscription likelihood. The bank's call center team should keep up their efforts with contacting customers and communicating the banks offers, education and build strong customer relationship. It should create more educational and promotional information for customers with lower bank balance to promote fixed deposit for those who might not be fully aware of the benefits. The chart also showed that timing is also highly important. Seasonal campaign timing which seems to be october appear to influence subscriptions. The marketing team can push during these period to maximize reach and engagement. \n",
    "\n",
    "By implenting the recommendations and insights from this analysis, the bank can efficiently allocate resoures which will improve their goal of term deposit conversions, and in result have profit and more stable cash flow."
   ]
  }
 ],
 "metadata": {
  "kernelspec": {
   "display_name": "Python 3 (ipykernel)",
   "language": "python",
   "name": "python3"
  },
  "language_info": {
   "codemirror_mode": {
    "name": "ipython",
    "version": 3
   },
   "file_extension": ".py",
   "mimetype": "text/x-python",
   "name": "python",
   "nbconvert_exporter": "python",
   "pygments_lexer": "ipython3",
   "version": "3.9.13"
  }
 },
 "nbformat": 4,
 "nbformat_minor": 5
}
